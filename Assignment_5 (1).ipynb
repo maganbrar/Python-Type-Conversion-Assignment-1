{
 "cells": [
  {
   "cell_type": "markdown",
   "id": "69a3187c-c431-4088-9bde-6b6793ad1a2f",
   "metadata": {},
   "source": [
    "1.Write a program to print numbers form 1 to 10,but stop if the number is 5."
   ]
  },
  {
   "cell_type": "markdown",
   "id": "c60a8df6-dc31-4910-b687-51eff849a841",
   "metadata": {},
   "source": [
    "Solution:"
   ]
  },
  {
   "cell_type": "code",
   "execution_count": 9,
   "id": "b363df27-73ae-4d5a-b441-f20fca293157",
   "metadata": {},
   "outputs": [
    {
     "name": "stdout",
     "output_type": "stream",
     "text": [
      "1\n",
      "2\n",
      "3\n",
      "4\n",
      "5\n"
     ]
    }
   ],
   "source": [
    "for i in range(1,11):\n",
    "    print(i)\n",
    "    if i==5:\n",
    "        break;\n",
    "        "
   ]
  },
  {
   "cell_type": "markdown",
   "id": "a04edab6-8b29-4b73-aa46-9d3216254ce0",
   "metadata": {},
   "source": [
    "2.Write a program to iterate through a list and stop when encountering a specific element."
   ]
  },
  {
   "cell_type": "code",
   "execution_count": 2,
   "id": "72f7c60b-e9c8-4c3b-a837-9a106f6c1587",
   "metadata": {},
   "outputs": [
    {
     "name": "stdout",
     "output_type": "stream",
     "text": [
      "2\n",
      "3\n",
      "47\n",
      "5\n"
     ]
    }
   ],
   "source": [
    "l=[2,3,47,5,64,21]\n",
    "for ele in l:\n",
    "    print(ele)\n",
    "    if ele==5:\n",
    "        break;"
   ]
  },
  {
   "cell_type": "markdown",
   "id": "5efbec47-611c-4bbf-9ae6-5403125e479f",
   "metadata": {},
   "source": [
    "3.Write a program to skip printing even numbers from 1 to 10."
   ]
  },
  {
   "cell_type": "code",
   "execution_count": 3,
   "id": "ba909688-7563-45c4-b1e0-06f36258085e",
   "metadata": {},
   "outputs": [
    {
     "name": "stdout",
     "output_type": "stream",
     "text": [
      "1\n",
      "3\n",
      "5\n",
      "7\n",
      "9\n"
     ]
    }
   ],
   "source": [
    "for i in range(1,11):\n",
    "    if (i%2==0):\n",
    "        continue\n",
    "    print(i)"
   ]
  },
  {
   "cell_type": "markdown",
   "id": "f783464d-8b16-46e7-b5df-501673356c60",
   "metadata": {},
   "source": [
    "4.Write a program to print numbers from 0 to 9 using range function."
   ]
  },
  {
   "cell_type": "code",
   "execution_count": 4,
   "id": "9605957c-a196-46e8-a442-63765b97e762",
   "metadata": {},
   "outputs": [
    {
     "name": "stdout",
     "output_type": "stream",
     "text": [
      "0\n",
      "1\n",
      "2\n",
      "3\n",
      "4\n",
      "5\n",
      "6\n",
      "7\n",
      "8\n",
      "9\n"
     ]
    }
   ],
   "source": [
    "for i in range(10):\n",
    "    print(i)"
   ]
  },
  {
   "cell_type": "markdown",
   "id": "0124b736-558e-45f2-b6d8-d83fd0274ca5",
   "metadata": {},
   "source": [
    "5.Write a program to print multiplication tables from  to 5, but stop after the first table is printed for each\n",
    "number."
   ]
  },
  {
   "cell_type": "code",
   "execution_count": 5,
   "id": "f803c0b3-2344-4a05-a631-ff7bcc275749",
   "metadata": {},
   "outputs": [
    {
     "name": "stdout",
     "output_type": "stream",
     "text": [
      "Multiplication Table for 1\n",
      "1 x 1 = 1\n",
      "1 x 2 = 2\n",
      "1 x 3 = 3\n",
      "1 x 4 = 4\n",
      "1 x 5 = 5\n",
      "1 x 6 = 6\n",
      "1 x 7 = 7\n",
      "1 x 8 = 8\n",
      "1 x 9 = 9\n",
      "1 x 10 = 10\n",
      "\n",
      "Multiplication Table for 2\n",
      "2 x 1 = 2\n",
      "2 x 2 = 4\n",
      "2 x 3 = 6\n",
      "2 x 4 = 8\n",
      "2 x 5 = 10\n",
      "2 x 6 = 12\n",
      "2 x 7 = 14\n",
      "2 x 8 = 16\n",
      "2 x 9 = 18\n",
      "2 x 10 = 20\n",
      "\n",
      "Multiplication Table for 3\n",
      "3 x 1 = 3\n",
      "3 x 2 = 6\n",
      "3 x 3 = 9\n",
      "3 x 4 = 12\n",
      "3 x 5 = 15\n",
      "3 x 6 = 18\n",
      "3 x 7 = 21\n",
      "3 x 8 = 24\n",
      "3 x 9 = 27\n",
      "3 x 10 = 30\n",
      "\n",
      "Multiplication Table for 4\n",
      "4 x 1 = 4\n",
      "4 x 2 = 8\n",
      "4 x 3 = 12\n",
      "4 x 4 = 16\n",
      "4 x 5 = 20\n",
      "4 x 6 = 24\n",
      "4 x 7 = 28\n",
      "4 x 8 = 32\n",
      "4 x 9 = 36\n",
      "4 x 10 = 40\n",
      "\n",
      "Multiplication Table for 5\n",
      "5 x 1 = 5\n",
      "5 x 2 = 10\n",
      "5 x 3 = 15\n",
      "5 x 4 = 20\n",
      "5 x 5 = 25\n",
      "5 x 6 = 30\n",
      "5 x 7 = 35\n",
      "5 x 8 = 40\n",
      "5 x 9 = 45\n",
      "5 x 10 = 50\n",
      "\n"
     ]
    }
   ],
   "source": [
    "for i in range(1, 6):\n",
    "    print(\"Multiplication Table for\", i)\n",
    "    for j in range(1, 11):\n",
    "        print(i, \"x\", j, \"=\", i * j)\n",
    "    print()  \n"
   ]
  },
  {
   "cell_type": "markdown",
   "id": "33d4ece6-d43d-4a4d-b3d5-6a8bd7aed86b",
   "metadata": {},
   "source": [
    "6.Write a program to skip printing even numbers using a while loop."
   ]
  },
  {
   "cell_type": "code",
   "execution_count": 6,
   "id": "1ca2d492-a83a-43d8-9d85-58475d9f2bba",
   "metadata": {},
   "outputs": [
    {
     "name": "stdout",
     "output_type": "stream",
     "text": [
      "1\n",
      "3\n",
      "5\n",
      "7\n",
      "9\n"
     ]
    }
   ],
   "source": [
    "num = 1\n",
    "\n",
    "while num <= 10:\n",
    "    if num % 2 != 0:\n",
    "        print(num)\n",
    "    num += 1\n"
   ]
  },
  {
   "cell_type": "code",
   "execution_count": null,
   "id": "7791c150-0aad-4139-af9d-34202c0f0117",
   "metadata": {},
   "outputs": [],
   "source": []
  }
 ],
 "metadata": {
  "kernelspec": {
   "display_name": "Python 3 (ipykernel)",
   "language": "python",
   "name": "python3"
  },
  "language_info": {
   "codemirror_mode": {
    "name": "ipython",
    "version": 3
   },
   "file_extension": ".py",
   "mimetype": "text/x-python",
   "name": "python",
   "nbconvert_exporter": "python",
   "pygments_lexer": "ipython3",
   "version": "3.10.8"
  }
 },
 "nbformat": 4,
 "nbformat_minor": 5
}
