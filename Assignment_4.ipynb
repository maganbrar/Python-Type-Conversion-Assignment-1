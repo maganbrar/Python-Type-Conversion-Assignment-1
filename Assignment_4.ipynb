{
 "cells": [
  {
   "cell_type": "markdown",
   "id": "34d44b99-989b-4253-9f45-e1087a2789a3",
   "metadata": {},
   "source": [
    "1.Print number from 1 to 5 using a while loop."
   ]
  },
  {
   "cell_type": "markdown",
   "id": "92e86d06-598d-4375-abf5-4367d630f756",
   "metadata": {},
   "source": [
    "Solution."
   ]
  },
  {
   "cell_type": "code",
   "execution_count": 2,
   "id": "fe6c0571-c6f8-42ee-9f06-8c7db3b7f4fe",
   "metadata": {},
   "outputs": [
    {
     "name": "stdout",
     "output_type": "stream",
     "text": [
      "1\n",
      "2\n",
      "3\n",
      "4\n",
      "5\n"
     ]
    }
   ],
   "source": [
    "i=1\n",
    "while i<=5:\n",
    "    print(i)\n",
    "    i=i+1"
   ]
  },
  {
   "cell_type": "markdown",
   "id": "0f2e45a5-b1b9-4a7d-87b5-ef7c2fad4f9e",
   "metadata": {},
   "source": [
    "2.Calculate the sum of number from 1 to 10 using a while loop."
   ]
  },
  {
   "cell_type": "code",
   "execution_count": 3,
   "id": "af791f5d-4682-45d1-83e1-34d6397592f8",
   "metadata": {},
   "outputs": [
    {
     "name": "stdout",
     "output_type": "stream",
     "text": [
      "55\n"
     ]
    }
   ],
   "source": [
    "n=1\n",
    "s=0\n",
    "while n<=10:\n",
    "    s=s+n\n",
    "    n=n+1\n",
    "print(s)"
   ]
  },
  {
   "cell_type": "markdown",
   "id": "8b85a52e-88d8-45bb-a8bf-89f8beb0439f",
   "metadata": {},
   "source": [
    "3.Calculate the factorial of a number using a for loop."
   ]
  },
  {
   "cell_type": "code",
   "execution_count": 7,
   "id": "b40480f6-ff69-4823-81ed-9bc73e30ca6b",
   "metadata": {},
   "outputs": [
    {
     "name": "stdin",
     "output_type": "stream",
     "text": [
      "Enter a number 6\n"
     ]
    },
    {
     "name": "stdout",
     "output_type": "stream",
     "text": [
      "The factorial of 6 is 720\n"
     ]
    }
   ],
   "source": [
    "a=int(input(\"Enter a number\"))\n",
    "fac=1\n",
    "for i in range(1,a+1):\n",
    "    fac=fac*i\n",
    "print(f\"The factorial of {a} is {fac}\")"
   ]
  },
  {
   "cell_type": "markdown",
   "id": "7881ad98-398a-4c2a-b0f4-dfe000124196",
   "metadata": {},
   "source": [
    "4.Count the number of vowel in a string using a for loop."
   ]
  },
  {
   "cell_type": "code",
   "execution_count": 8,
   "id": "ac4e4abe-82a2-4d8e-8202-2c0583eafc6c",
   "metadata": {},
   "outputs": [
    {
     "name": "stdout",
     "output_type": "stream",
     "text": [
      "Total number of vowel in Hello,world is 3\n"
     ]
    }
   ],
   "source": [
    "st=\"Hello,world\"\n",
    "vowel=\"aeiouAEIOU\"\n",
    "count=0\n",
    "for ch in st:\n",
    "    if ch in vowel:\n",
    "        count+=1\n",
    "print(f\"Total number of vowel in {st} is {count}\")\n",
    "        \n"
   ]
  },
  {
   "cell_type": "markdown",
   "id": "8e86387c-d2f4-4d65-b47e-4bf27db24ea7",
   "metadata": {},
   "source": [
    "5.Print a pattern using nested loop."
   ]
  },
  {
   "cell_type": "markdown",
   "id": "d11175d3-e3cd-4101-b2c5-cfd81957fba5",
   "metadata": {},
   "source": [
    "Solution:"
   ]
  },
  {
   "cell_type": "code",
   "execution_count": 9,
   "id": "8a1f8b8c-4495-49d9-988a-d8cd508b3bbb",
   "metadata": {},
   "outputs": [
    {
     "name": "stdout",
     "output_type": "stream",
     "text": [
      "* \n",
      "* * \n",
      "* * * \n",
      "* * * * \n",
      "* * * * * \n"
     ]
    }
   ],
   "source": [
    "rows = 5  \n",
    "\n",
    "for i in range(1, rows + 1):\n",
    "\n",
    "    for j in range(1, i + 1):\n",
    "        print(\"*\", end=\" \")\n",
    "    print()  \n"
   ]
  },
  {
   "cell_type": "markdown",
   "id": "1588acfa-5c5e-4a7a-9792-5637ad80d0fe",
   "metadata": {},
   "source": [
    "6.Generate a multiplication table using nested loop."
   ]
  },
  {
   "cell_type": "code",
   "execution_count": 10,
   "id": "762fb329-00a4-460b-b89c-57da10f6ee74",
   "metadata": {},
   "outputs": [
    {
     "name": "stdout",
     "output_type": "stream",
     "text": [
      "1 * 1 = 1\t1 * 2 = 2\t1 * 3 = 3\t1 * 4 = 4\t1 * 5 = 5\t1 * 6 = 6\t1 * 7 = 7\t1 * 8 = 8\t1 * 9 = 9\t1 * 10 = 10\t\n",
      "2 * 1 = 2\t2 * 2 = 4\t2 * 3 = 6\t2 * 4 = 8\t2 * 5 = 10\t2 * 6 = 12\t2 * 7 = 14\t2 * 8 = 16\t2 * 9 = 18\t2 * 10 = 20\t\n",
      "3 * 1 = 3\t3 * 2 = 6\t3 * 3 = 9\t3 * 4 = 12\t3 * 5 = 15\t3 * 6 = 18\t3 * 7 = 21\t3 * 8 = 24\t3 * 9 = 27\t3 * 10 = 30\t\n",
      "4 * 1 = 4\t4 * 2 = 8\t4 * 3 = 12\t4 * 4 = 16\t4 * 5 = 20\t4 * 6 = 24\t4 * 7 = 28\t4 * 8 = 32\t4 * 9 = 36\t4 * 10 = 40\t\n",
      "5 * 1 = 5\t5 * 2 = 10\t5 * 3 = 15\t5 * 4 = 20\t5 * 5 = 25\t5 * 6 = 30\t5 * 7 = 35\t5 * 8 = 40\t5 * 9 = 45\t5 * 10 = 50\t\n",
      "6 * 1 = 6\t6 * 2 = 12\t6 * 3 = 18\t6 * 4 = 24\t6 * 5 = 30\t6 * 6 = 36\t6 * 7 = 42\t6 * 8 = 48\t6 * 9 = 54\t6 * 10 = 60\t\n",
      "7 * 1 = 7\t7 * 2 = 14\t7 * 3 = 21\t7 * 4 = 28\t7 * 5 = 35\t7 * 6 = 42\t7 * 7 = 49\t7 * 8 = 56\t7 * 9 = 63\t7 * 10 = 70\t\n",
      "8 * 1 = 8\t8 * 2 = 16\t8 * 3 = 24\t8 * 4 = 32\t8 * 5 = 40\t8 * 6 = 48\t8 * 7 = 56\t8 * 8 = 64\t8 * 9 = 72\t8 * 10 = 80\t\n",
      "9 * 1 = 9\t9 * 2 = 18\t9 * 3 = 27\t9 * 4 = 36\t9 * 5 = 45\t9 * 6 = 54\t9 * 7 = 63\t9 * 8 = 72\t9 * 9 = 81\t9 * 10 = 90\t\n",
      "10 * 1 = 10\t10 * 2 = 20\t10 * 3 = 30\t10 * 4 = 40\t10 * 5 = 50\t10 * 6 = 60\t10 * 7 = 70\t10 * 8 = 80\t10 * 9 = 90\t10 * 10 = 100\t\n"
     ]
    }
   ],
   "source": [
    "\n",
    "size = 10\n",
    "\n",
    "for i in range(1, size + 1):\n",
    "\n",
    "    for j in range(1, size + 1):\n",
    "        \n",
    "        product = i * j\n",
    "     \n",
    "        print(f\"{i} * {j} = {product}\", end=\"\\t\")\n",
    "  \n",
    "    print()\n"
   ]
  },
  {
   "cell_type": "code",
   "execution_count": null,
   "id": "3ff970db-3e25-42e1-8105-77d4ab962472",
   "metadata": {},
   "outputs": [],
   "source": []
  }
 ],
 "metadata": {
  "kernelspec": {
   "display_name": "Python 3 (ipykernel)",
   "language": "python",
   "name": "python3"
  },
  "language_info": {
   "codemirror_mode": {
    "name": "ipython",
    "version": 3
   },
   "file_extension": ".py",
   "mimetype": "text/x-python",
   "name": "python",
   "nbconvert_exporter": "python",
   "pygments_lexer": "ipython3",
   "version": "3.10.8"
  }
 },
 "nbformat": 4,
 "nbformat_minor": 5
}
