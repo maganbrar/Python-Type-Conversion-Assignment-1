{
 "cells": [
  {
   "cell_type": "markdown",
   "id": "62f9344f-9815-4a9e-9a7a-cd8dc9023298",
   "metadata": {},
   "source": [
    "1.Calculate the sum ,difference ,product, and quotient of two numbers."
   ]
  },
  {
   "cell_type": "code",
   "execution_count": 1,
   "id": "b59d2e65-7618-448d-9838-ef1e03c97ae5",
   "metadata": {},
   "outputs": [
    {
     "name": "stdout",
     "output_type": "stream",
     "text": [
      "The sum of 8 and 5 is 13\n",
      "The difference of 8 and 5 is 3\n",
      "The product of 8 and 5 is 40\n",
      "The quotient of 8 and 5 is 1.6\n"
     ]
    }
   ],
   "source": [
    "num1=8\n",
    "num2=5\n",
    "s=num1+num2\n",
    "diff=num1-num2\n",
    "mul=num1*num2\n",
    "quo=num1/num2\n",
    "print(f\"The sum of {num1} and {num2} is {s}\")\n",
    "print(f\"The difference of {num1} and {num2} is {diff}\")\n",
    "print(f\"The product of {num1} and {num2} is {mul}\")\n",
    "print(f\"The quotient of {num1} and {num2} is {quo}\")"
   ]
  },
  {
   "cell_type": "markdown",
   "id": "b43d60cf-675a-41d3-ab89-c7ae8d1d812c",
   "metadata": {},
   "source": [
    "2.Perform various assignment operations on a variable."
   ]
  },
  {
   "cell_type": "code",
   "execution_count": 2,
   "id": "f70cc720-9bb1-40f6-b65a-a061bfef966f",
   "metadata": {},
   "outputs": [
    {
     "name": "stdout",
     "output_type": "stream",
     "text": [
      "8 24 2.0\n"
     ]
    }
   ],
   "source": [
    "a=5\n",
    "b=6\n",
    "c=10\n",
    "a+=3\n",
    "b*=4\n",
    "c/=5\n",
    "print(a,b,c)"
   ]
  },
  {
   "cell_type": "markdown",
   "id": "c1718c35-7e97-4b19-963e-b77a4c546ab8",
   "metadata": {},
   "source": [
    "3.Compare two numbers and print the results."
   ]
  },
  {
   "cell_type": "code",
   "execution_count": 3,
   "id": "8bc47c20-4400-4994-a3a5-8f9ac8f0358d",
   "metadata": {},
   "outputs": [
    {
     "data": {
      "text/plain": [
       "False"
      ]
     },
     "execution_count": 3,
     "metadata": {},
     "output_type": "execute_result"
    }
   ],
   "source": [
    "n1=5\n",
    "n2=8\n",
    "n1==n2"
   ]
  },
  {
   "cell_type": "markdown",
   "id": "be10d14f-b4f1-4431-a16c-df9e555cc1c7",
   "metadata": {},
   "source": [
    "4.Check the conditions using logical operator"
   ]
  },
  {
   "cell_type": "code",
   "execution_count": 6,
   "id": "e7600a13-b187-4632-8bb8-d97507f909aa",
   "metadata": {},
   "outputs": [
    {
     "name": "stdout",
     "output_type": "stream",
     "text": [
      "False\n",
      "True\n",
      "True\n"
     ]
    }
   ],
   "source": [
    "t1=7\n",
    "t2=4\n",
    "t3=8\n",
    "print(t2>t3 and t2<t1)\n",
    "print(t2>t3 or  t2<t1)\n",
    "print(not(t2>t3 and t2<t1))\n"
   ]
  },
  {
   "cell_type": "markdown",
   "id": "3cdc0d3d-374e-4f05-bfe3-a809f5aa5bff",
   "metadata": {},
   "source": [
    "5.Check the identity of variables."
   ]
  },
  {
   "cell_type": "code",
   "execution_count": 9,
   "id": "a94c3737-ab6b-4a17-9992-b86034a4529b",
   "metadata": {},
   "outputs": [
    {
     "name": "stdout",
     "output_type": "stream",
     "text": [
      "The identity if JAAT is 140516638070000\n",
      "The identity if 65 is 140516722116848\n"
     ]
    }
   ],
   "source": [
    "s1=\"JAAT\"\n",
    "s2=65\n",
    "print(f\"The identity if {s1} is {id(s1)}\")\n",
    "print(f\"The identity if {s2} is {id(s2)}\")"
   ]
  },
  {
   "cell_type": "markdown",
   "id": "5ffb9069-0aac-4fdd-aa29-5cd4761bd6bb",
   "metadata": {},
   "source": [
    "6.Perform bitwise operations on any two integers."
   ]
  },
  {
   "cell_type": "code",
   "execution_count": 14,
   "id": "e4b1d30c-8cec-48f9-a1f3-cd6b71dcfe5a",
   "metadata": {},
   "outputs": [
    {
     "name": "stdout",
     "output_type": "stream",
     "text": [
      "4\n",
      "7\n",
      "3\n",
      "320\n",
      "0\n"
     ]
    }
   ],
   "source": [
    "a1=5\n",
    "a2=6\n",
    "print(a1 & a2)\n",
    "print(a1 | a2)\n",
    "print(a1^a2)\n",
    "print(a1<<a2)\n",
    "print(a1>>a2)"
   ]
  },
  {
   "cell_type": "markdown",
   "id": "9a8dbe7a-3dad-4b2b-b2b6-ce3914c6c893",
   "metadata": {},
   "source": [
    "7.Use unary operators to change the sign of a number."
   ]
  },
  {
   "cell_type": "code",
   "execution_count": 15,
   "id": "1f524729-9c66-4377-b7a4-7d401a75cda6",
   "metadata": {},
   "outputs": [
    {
     "name": "stdout",
     "output_type": "stream",
     "text": [
      "-5\n"
     ]
    }
   ],
   "source": [
    "a=5\n",
    "print(-a)"
   ]
  },
  {
   "cell_type": "markdown",
   "id": "9e7de98a-4d3e-4050-9aa4-a29e69b2489a",
   "metadata": {},
   "source": [
    "8.Use the ternary operator to assign values based on conditions."
   ]
  },
  {
   "cell_type": "code",
   "execution_count": 17,
   "id": "467b8793-8da0-49c1-a738-6960697c6218",
   "metadata": {},
   "outputs": [
    {
     "name": "stdout",
     "output_type": "stream",
     "text": [
      "20\n",
      "20\n",
      "10\n"
     ]
    }
   ],
   "source": [
    "y1,y2=10,20\n",
    "print(y2 if y2>y1 else y1)\n",
    "print((y1,y2) [y1<y2])\n",
    "print({True :y1,False:y2} [y2>y1])"
   ]
  },
  {
   "cell_type": "code",
   "execution_count": null,
   "id": "fcc54d39-b199-47f8-a22b-90fb7624ec37",
   "metadata": {},
   "outputs": [],
   "source": []
  }
 ],
 "metadata": {
  "kernelspec": {
   "display_name": "Python 3 (ipykernel)",
   "language": "python",
   "name": "python3"
  },
  "language_info": {
   "codemirror_mode": {
    "name": "ipython",
    "version": 3
   },
   "file_extension": ".py",
   "mimetype": "text/x-python",
   "name": "python",
   "nbconvert_exporter": "python",
   "pygments_lexer": "ipython3",
   "version": "3.10.8"
  }
 },
 "nbformat": 4,
 "nbformat_minor": 5
}
