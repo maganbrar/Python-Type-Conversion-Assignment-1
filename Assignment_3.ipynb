{
 "cells": [
  {
   "cell_type": "markdown",
   "id": "133e2867-9597-4cde-9180-e98b5280fbc2",
   "metadata": {},
   "source": [
    "1.Explain the significance of python keywords and provide examples of five keywords."
   ]
  },
  {
   "cell_type": "markdown",
   "id": "9d37b102-e79e-4fc0-883d-fca1cf81f48d",
   "metadata": {},
   "source": [
    "Solution:"
   ]
  },
  {
   "cell_type": "markdown",
   "id": "9f3b7ef5-34fa-4993-995e-63100c54ad79",
   "metadata": {},
   "source": [
    "Python keywords are the reserved words that have already defined the meaning of these keywords by py python Interpreter.\n",
    "we can't use these keywords to define the Identifier in python.These keywords are used to help provide syntax and\n",
    "structure of python language.\n",
    "\n",
    "Here are the significance and examples of five Python keywords:"
   ]
  },
  {
   "cell_type": "markdown",
   "id": "8a0b3bdd-72d0-4fa4-b756-ca4728d44f0d",
   "metadata": {},
   "source": [
    "I> IF->It is used to execute a code of block only if given condition is true."
   ]
  },
  {
   "cell_type": "code",
   "execution_count": 1,
   "id": "69e5c254-e80a-4ae3-9773-4a0ab9878b30",
   "metadata": {},
   "outputs": [
    {
     "name": "stdout",
     "output_type": "stream",
     "text": [
      "x is greater than 5\n"
     ]
    }
   ],
   "source": [
    "x = 10\n",
    "if x > 5:\n",
    "    print(\"x is greater than 5\")\n"
   ]
  },
  {
   "cell_type": "markdown",
   "id": "df373000-758c-4716-9c15-d84a8144c874",
   "metadata": {},
   "source": [
    "II> for-> Used to create a loop that iterates over a sequence (such as lists, tuples, or strings) or any iterable object."
   ]
  },
  {
   "cell_type": "code",
   "execution_count": 2,
   "id": "bee15130-49e9-4191-a288-061d092ec3d8",
   "metadata": {},
   "outputs": [
    {
     "name": "stdout",
     "output_type": "stream",
     "text": [
      "0\n",
      "1\n",
      "2\n",
      "3\n",
      "4\n"
     ]
    }
   ],
   "source": [
    "for i in range(5):\n",
    "    print(i)\n"
   ]
  },
  {
   "cell_type": "markdown",
   "id": "4ae2b1ea-d48c-49d6-b694-eb348ea29398",
   "metadata": {},
   "source": [
    "III> while->Used to create a loop that continues to execute a block of code as long as a specified condition is true."
   ]
  },
  {
   "cell_type": "code",
   "execution_count": 3,
   "id": "bc5a5c05-21ad-4993-8036-8762fca0a2db",
   "metadata": {},
   "outputs": [
    {
     "name": "stdout",
     "output_type": "stream",
     "text": [
      "0\n",
      "1\n",
      "2\n",
      "3\n",
      "4\n"
     ]
    }
   ],
   "source": [
    "x = 0\n",
    "while x < 5:\n",
    "    print(x)\n",
    "    x += 1\n"
   ]
  },
  {
   "cell_type": "markdown",
   "id": "e5e332c7-a5ea-4a04-a85f-fe8458804033",
   "metadata": {},
   "source": [
    "IV>def-> Used to define a function in Python"
   ]
  },
  {
   "cell_type": "code",
   "execution_count": 4,
   "id": "bbe259ff-0504-4f4b-95e5-600254043d9a",
   "metadata": {},
   "outputs": [],
   "source": [
    "def greet(name):\n",
    "    print(\"Hello,\", name)\n"
   ]
  },
  {
   "cell_type": "markdown",
   "id": "536b821a-df0b-4b23-954a-681b7abcaab0",
   "metadata": {},
   "source": [
    "V> return->Used inside a function to exit the function and return a value to the caller."
   ]
  },
  {
   "cell_type": "code",
   "execution_count": 5,
   "id": "dc6a4e34-f2d1-4445-b326-adaf0f8a326d",
   "metadata": {},
   "outputs": [],
   "source": [
    "def add(x, y):\n",
    "    return x + y\n"
   ]
  },
  {
   "cell_type": "markdown",
   "id": "f1364690-d957-4dd2-945b-e0dad7ff07bb",
   "metadata": {},
   "source": [
    "2.Describe the rules for defining identifiers in Python and provide an example"
   ]
  },
  {
   "cell_type": "markdown",
   "id": "f742dd71-3f7e-4dc8-83e2-511e7cfe5211",
   "metadata": {},
   "source": [
    "Solution:"
   ]
  },
  {
   "cell_type": "markdown",
   "id": "b37ebca8-4d9d-4f87-9e9a-3e6bbdc88bb7",
   "metadata": {},
   "source": [
    "Rules for Identifiers in Python:\n",
    "\n",
    "Valid Characters: Letters (a-z, A-Z), digits (0-9), and underscores (_). \n",
    "\n",
    "Must start with a letter or underscore.\n",
    "\n",
    "Case Sensitivity: Python is case-sensitive.\n",
    "\n",
    "Reserved Words: Identifiers cannot be Python keywords.\n",
    "\n",
    "No Special Characters: Special characters like !, @, #, $, %, etc., are not allowed.\n",
    "\n",
    "Length: No limit, but keep them reasonably short and descriptive."
   ]
  },
  {
   "cell_type": "code",
   "execution_count": 6,
   "id": "0e2fbfa5-7552-45e4-9a18-43feefa3eacd",
   "metadata": {},
   "outputs": [
    {
     "ename": "SyntaxError",
     "evalue": "invalid syntax (3441225007.py, line 8)",
     "output_type": "error",
     "traceback": [
      "\u001b[0;36m  Cell \u001b[0;32mIn[6], line 8\u001b[0;36m\u001b[0m\n\u001b[0;31m    2invalid = \"This is invalid\"  # Identifier cannot start with a digit\u001b[0m\n\u001b[0m     ^\u001b[0m\n\u001b[0;31mSyntaxError\u001b[0m\u001b[0;31m:\u001b[0m invalid syntax\n"
     ]
    }
   ],
   "source": [
    "# Valid identifiers\n",
    "my_variable = 10\n",
    "MyVariable = 20\n",
    "_this_is_valid = \"Hello\"\n",
    "this_is_valid_2 = True\n",
    "\n",
    "# Invalid identifiers\n",
    "2invalid = \"This is invalid\"  # Identifier cannot start with a digit\n",
    "my-variable = 30               # Identifier cannot contain hyphens\n",
    "class = \"Python\"               # Identifier cannot be a reserved word\n"
   ]
  },
  {
   "cell_type": "markdown",
   "id": "c1a046d9-de7e-4641-aa17-483c98be4dec",
   "metadata": {},
   "source": [
    "3.What are comments in Python, and why are they useful6 Provide an example"
   ]
  },
  {
   "cell_type": "markdown",
   "id": "9fe7aeb3-76de-4a4e-be83-fb58b295b89c",
   "metadata": {},
   "source": [
    "Solution:"
   ]
  },
  {
   "cell_type": "markdown",
   "id": "afa81533-09dd-4688-b32e-ec17c2b65874",
   "metadata": {},
   "source": [
    "\n",
    "Comments in Python are text annotations within the code that are ignored by the Python interpreter during execution. They are useful for providing explanations, clarifications, or documentation within the code to enhance readability and understanding."
   ]
  },
  {
   "cell_type": "code",
   "execution_count": 7,
   "id": "6d80df10-54cc-4cfa-9842-7f5f0083d66c",
   "metadata": {},
   "outputs": [
    {
     "name": "stdout",
     "output_type": "stream",
     "text": [
      "0\n",
      "1\n",
      "2\n",
      "3\n",
      "4\n",
      "5\n",
      "6\n",
      "7\n",
      "8\n",
      "9\n"
     ]
    }
   ],
   "source": [
    "# This is a comment explaining the purpose of the following code\n",
    "x = 10  # Assigning a value to variable x\n",
    "\n",
    "# Loop through a range and print each number\n",
    "for i in range(x):\n",
    "    print(i)\n"
   ]
  },
  {
   "cell_type": "markdown",
   "id": "1477e619-1f45-49fa-8c4e-368bf5318e55",
   "metadata": {},
   "source": [
    "4. Why is proper indentation important in Python?"
   ]
  },
  {
   "cell_type": "markdown",
   "id": "0f35514d-42ce-44e5-bbb0-23cb54881f26",
   "metadata": {},
   "source": [
    "Solution:\n"
   ]
  },
  {
   "cell_type": "markdown",
   "id": "6ee6ed97-dc43-42b6-9ac4-2b9fbd90476f",
   "metadata": {},
   "source": [
    "\n",
    "Proper indentation in Python is important because it defines the structure and hierarchy of code blocks. It is used to indicate the beginning and end of blocks of code, such as loops, conditional statements, and functions. Incorrect indentation can lead to syntax errors or alter the logic of the code."
   ]
  },
  {
   "cell_type": "code",
   "execution_count": 8,
   "id": "6fdce9bd-54cc-4f97-a203-f8e5cb0c3416",
   "metadata": {},
   "outputs": [
    {
     "name": "stdout",
     "output_type": "stream",
     "text": [
      "x is greater than 5\n"
     ]
    }
   ],
   "source": [
    "if x > 5:\n",
    "    print(\"x is greater than 5\")\n",
    "else:\n",
    "    print(\"x is not greater than 5\")\n"
   ]
  },
  {
   "cell_type": "markdown",
   "id": "9da8617a-ae63-49d0-b85d-d4e06c54f4d2",
   "metadata": {},
   "source": [
    "5. What happens if indentation is incorrect in Python?"
   ]
  },
  {
   "cell_type": "markdown",
   "id": "053c0c88-9fd1-40f0-8cbb-8ee0ee1401f9",
   "metadata": {},
   "source": [
    "Solution:"
   ]
  },
  {
   "cell_type": "markdown",
   "id": "b713472a-c4b2-43e7-92ca-a00de4408f62",
   "metadata": {},
   "source": [
    "Incorrect indentation in Python can lead to syntax errors or alter the logical structure of the code, resulting in unexpected behavior or runtime errors."
   ]
  },
  {
   "cell_type": "code",
   "execution_count": 9,
   "id": "618df7c3-c2c8-4b2d-a5ec-c2dc09fc709f",
   "metadata": {},
   "outputs": [
    {
     "ename": "IndentationError",
     "evalue": "expected an indented block after 'if' statement on line 1 (3703302515.py, line 2)",
     "output_type": "error",
     "traceback": [
      "\u001b[0;36m  Cell \u001b[0;32mIn[9], line 2\u001b[0;36m\u001b[0m\n\u001b[0;31m    print(\"x is greater than 5\")\u001b[0m\n\u001b[0m    ^\u001b[0m\n\u001b[0;31mIndentationError\u001b[0m\u001b[0;31m:\u001b[0m expected an indented block after 'if' statement on line 1\n"
     ]
    }
   ],
   "source": [
    "if x > 5:\n",
    "print(\"x is greater than 5\")\n",
    "else:\n",
    "print(\"x is not greater than 5\")\n"
   ]
  },
  {
   "cell_type": "markdown",
   "id": "d90d92f6-0aca-4a00-bf1c-d9ad08c02408",
   "metadata": {},
   "source": [
    "6.Differentiate 0etween expression and statement in Python with examples"
   ]
  },
  {
   "cell_type": "markdown",
   "id": "7aebcd7f-1d74-4888-bc25-b268462efec6",
   "metadata": {},
   "source": [
    "Solution:"
   ]
  },
  {
   "cell_type": "markdown",
   "id": "708a2e96-2916-4124-81ab-9c5612378619",
   "metadata": {},
   "source": [
    "Expression:\n",
    "\n",
    "An expression is a combination of variables, operators, and function calls that evaluates to a value.\n",
    "Expressions can be simple, such as a single variable or literal value, or complex, involving arithmetic or function calls.\n",
    "Expressions can be used anywhere a value is expected, such as in assignments, function arguments, or within other expressions."
   ]
  },
  {
   "cell_type": "code",
   "execution_count": 16,
   "id": "d7fd45bb-68e6-408b-88f2-a86708a681e8",
   "metadata": {},
   "outputs": [],
   "source": [
    "import math\n",
    "x = 10 + 5   # Addition expression\n",
    "y = (2 * x) + (3 * x)   # Complex expression involving arithmetic operations\n",
    "z = math.sqrt(y)   # Expression involving a function call\n"
   ]
  },
  {
   "cell_type": "markdown",
   "id": "e955a17a-1a03-4ea8-abf7-a88338599a68",
   "metadata": {},
   "source": [
    "Statement:\n",
    "\n",
    "A statement is a complete unit of execution that performs an action. It can include expressions but often does more.\n",
    "\n",
    "Statements are used to control the flow of a program, such as assignments, loops, conditional execution, or function definitions.\n",
    "\n",
    "Every Python program is composed of one or more statements."
   ]
  },
  {
   "cell_type": "code",
   "execution_count": 17,
   "id": "7a319837-40df-4ef1-b10c-4991648d6c50",
   "metadata": {},
   "outputs": [
    {
     "name": "stdout",
     "output_type": "stream",
     "text": [
      "x is greater than 5\n",
      "0\n",
      "1\n",
      "2\n",
      "3\n",
      "4\n"
     ]
    }
   ],
   "source": [
    "x = 10   # Assignment statement\n",
    "if x > 5:   # Conditional statement\n",
    "    print(\"x is greater than 5\")   # Print statement\n",
    "for i in range(5):   # Loop statement\n",
    "    print(i)   # Another print statement inside a loop\n"
   ]
  },
  {
   "cell_type": "code",
   "execution_count": null,
   "id": "27bc2221-de6b-484b-857d-aec61c1ad958",
   "metadata": {},
   "outputs": [],
   "source": []
  }
 ],
 "metadata": {
  "kernelspec": {
   "display_name": "Python 3 (ipykernel)",
   "language": "python",
   "name": "python3"
  },
  "language_info": {
   "codemirror_mode": {
    "name": "ipython",
    "version": 3
   },
   "file_extension": ".py",
   "mimetype": "text/x-python",
   "name": "python",
   "nbconvert_exporter": "python",
   "pygments_lexer": "ipython3",
   "version": "3.10.8"
  }
 },
 "nbformat": 4,
 "nbformat_minor": 5
}
