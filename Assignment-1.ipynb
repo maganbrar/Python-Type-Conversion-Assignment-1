{
 "cells": [
  {
   "cell_type": "markdown",
   "id": "17ce0754-aab3-40fd-b72c-ed8da4aa1a10",
   "metadata": {},
   "source": [
    "1.Convert an integer to a floating-point number."
   ]
  },
  {
   "cell_type": "code",
   "execution_count": 9,
   "id": "67d0fef9-b86b-4e14-b93a-caf96e732faa",
   "metadata": {},
   "outputs": [
    {
     "name": "stdout",
     "output_type": "stream",
     "text": [
      "19.0\n"
     ]
    },
    {
     "data": {
      "text/plain": [
       "float"
      ]
     },
     "execution_count": 9,
     "metadata": {},
     "output_type": "execute_result"
    }
   ],
   "source": [
    "a=19\n",
    "b=float(a)\n",
    "print(b)\n",
    "type(b)"
   ]
  },
  {
   "cell_type": "markdown",
   "id": "890194cb-422e-4bbb-9e1e-629693f7e080",
   "metadata": {},
   "source": [
    "2.Convert a float to an integer."
   ]
  },
  {
   "cell_type": "code",
   "execution_count": 10,
   "id": "7eba548d-0f9f-436f-85be-633622e313e1",
   "metadata": {},
   "outputs": [
    {
     "name": "stdout",
     "output_type": "stream",
     "text": [
      "37\n"
     ]
    },
    {
     "data": {
      "text/plain": [
       "int"
      ]
     },
     "execution_count": 10,
     "metadata": {},
     "output_type": "execute_result"
    }
   ],
   "source": [
    "f=37.6\n",
    "i=int(f)\n",
    "print(i)\n",
    "type(i)"
   ]
  },
  {
   "cell_type": "markdown",
   "id": "6111bf4f-8154-42d5-bc06-9f89695b3fa1",
   "metadata": {},
   "source": [
    "3.Convert an integer into string."
   ]
  },
  {
   "cell_type": "code",
   "execution_count": 12,
   "id": "caf18143-7e2e-44b5-a21d-20b772e2eb08",
   "metadata": {},
   "outputs": [
    {
     "name": "stdout",
     "output_type": "stream",
     "text": [
      "45\n"
     ]
    },
    {
     "data": {
      "text/plain": [
       "str"
      ]
     },
     "execution_count": 12,
     "metadata": {},
     "output_type": "execute_result"
    }
   ],
   "source": [
    "t=45\n",
    "s=str(t)\n",
    "print(s)\n",
    "type(s)"
   ]
  },
  {
   "cell_type": "markdown",
   "id": "b0d58177-0972-4cd8-865f-a563f4ab4dbd",
   "metadata": {},
   "source": [
    "4.Convert a list into a tuple."
   ]
  },
  {
   "cell_type": "code",
   "execution_count": 13,
   "id": "5e8001cd-4342-4174-9b8b-1cec7a69b709",
   "metadata": {},
   "outputs": [
    {
     "name": "stdout",
     "output_type": "stream",
     "text": [
      "[2, 3, 4, 'hello']\n",
      "(2, 3, 4, 'hello')\n"
     ]
    },
    {
     "data": {
      "text/plain": [
       "tuple"
      ]
     },
     "execution_count": 13,
     "metadata": {},
     "output_type": "execute_result"
    }
   ],
   "source": [
    "l=[2,3,4,\"hello\"]\n",
    "tu=tuple(l)\n",
    "print(l)\n",
    "print(tu)\n",
    "type(tu)"
   ]
  },
  {
   "cell_type": "markdown",
   "id": "806dc359-71b5-4512-87d3-ac7c1b36529b",
   "metadata": {},
   "source": [
    "5.Convert a tuple into a list."
   ]
  },
  {
   "cell_type": "code",
   "execution_count": 15,
   "id": "09133547-72ed-4019-93ca-b926491ad7e2",
   "metadata": {},
   "outputs": [
    {
     "name": "stdout",
     "output_type": "stream",
     "text": [
      "(2, 3, 6, 7, 8, 9)\n",
      "[2, 3, 6, 7, 8, 9]\n"
     ]
    },
    {
     "data": {
      "text/plain": [
       "list"
      ]
     },
     "execution_count": 15,
     "metadata": {},
     "output_type": "execute_result"
    }
   ],
   "source": [
    "ts=(2,3,6,7,8,9)\n",
    "lt=list(ts)\n",
    "print(ts)\n",
    "print(lt)\n",
    "type(lt)\n"
   ]
  },
  {
   "cell_type": "markdown",
   "id": "331abecf-8859-47d9-b571-757fc30e84eb",
   "metadata": {},
   "source": [
    "6.Convert a decimal number to binary."
   ]
  },
  {
   "cell_type": "code",
   "execution_count": 24,
   "id": "58608def-b35e-475d-9ec6-4d8b4f378388",
   "metadata": {},
   "outputs": [
    {
     "data": {
      "text/plain": [
       "'10'"
      ]
     },
     "execution_count": 24,
     "metadata": {},
     "output_type": "execute_result"
    }
   ],
   "source": [
    "dec=2\n",
    "bi=bin(dec)[2:]\n",
    "bi\n"
   ]
  },
  {
   "cell_type": "markdown",
   "id": "29def918-4b60-4b46-bb2f-41ae64f006cb",
   "metadata": {},
   "source": [
    "7.Convert a non-zero number to boolean"
   ]
  },
  {
   "cell_type": "code",
   "execution_count": 25,
   "id": "44b9c8fa-a2e3-4f29-97fc-f0e57cdfe7db",
   "metadata": {},
   "outputs": [
    {
     "data": {
      "text/plain": [
       "True"
      ]
     },
     "execution_count": 25,
     "metadata": {},
     "output_type": "execute_result"
    }
   ],
   "source": [
    "x=1\n",
    "y=bool(x)\n",
    "y"
   ]
  },
  {
   "cell_type": "code",
   "execution_count": null,
   "id": "7b51d278-c177-46a2-9692-7e7a8a99991f",
   "metadata": {},
   "outputs": [],
   "source": []
  }
 ],
 "metadata": {
  "kernelspec": {
   "display_name": "Python 3 (ipykernel)",
   "language": "python",
   "name": "python3"
  },
  "language_info": {
   "codemirror_mode": {
    "name": "ipython",
    "version": 3
   },
   "file_extension": ".py",
   "mimetype": "text/x-python",
   "name": "python",
   "nbconvert_exporter": "python",
   "pygments_lexer": "ipython3",
   "version": "3.10.8"
  }
 },
 "nbformat": 4,
 "nbformat_minor": 5
}
